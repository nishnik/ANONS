{
 "cells": [
  {
   "cell_type": "markdown",
   "metadata": {},
   "source": [
    "Importing dependancies"
   ]
  },
  {
   "cell_type": "code",
   "execution_count": 1,
   "metadata": {},
   "outputs": [
    {
     "ename": "ModuleNotFoundError",
     "evalue": "No module named 'torch'",
     "output_type": "error",
     "traceback": [
      "\u001b[0;31m---------------------------------------------------------------------------\u001b[0m",
      "\u001b[0;31mModuleNotFoundError\u001b[0m                       Traceback (most recent call last)",
      "\u001b[0;32m<ipython-input-1-0d8c741e1d70>\u001b[0m in \u001b[0;36m<module>\u001b[0;34m()\u001b[0m\n\u001b[1;32m      1\u001b[0m \u001b[0;34m\u001b[0m\u001b[0m\n\u001b[0;32m----> 2\u001b[0;31m \u001b[0;32mimport\u001b[0m \u001b[0mtorch\u001b[0m\u001b[0;34m\u001b[0m\u001b[0m\n\u001b[0m\u001b[1;32m      3\u001b[0m \u001b[0;32mfrom\u001b[0m \u001b[0mtorch\u001b[0m \u001b[0;32mimport\u001b[0m \u001b[0moptim\u001b[0m\u001b[0;34m\u001b[0m\u001b[0m\n\u001b[1;32m      4\u001b[0m \u001b[0;32mfrom\u001b[0m \u001b[0mtorch\u001b[0m \u001b[0;32mimport\u001b[0m \u001b[0mnn\u001b[0m\u001b[0;34m\u001b[0m\u001b[0m\n\u001b[1;32m      5\u001b[0m \u001b[0;32mimport\u001b[0m \u001b[0mmatplotlib\u001b[0m\u001b[0;34m.\u001b[0m\u001b[0mpyplot\u001b[0m \u001b[0;32mas\u001b[0m \u001b[0mplt\u001b[0m\u001b[0;34m\u001b[0m\u001b[0m\n",
      "\u001b[0;31mModuleNotFoundError\u001b[0m: No module named 'torch'"
     ]
    }
   ],
   "source": [
    "\n",
    "import torch\n",
    "from torch import optim\n",
    "from torch import nn\n",
    "import matplotlib.pyplot as plt"
   ]
  },
  {
   "cell_type": "code",
   "execution_count": null,
   "metadata": {},
   "outputs": [],
   "source": [
    "from torchvision import datasets,transforms"
   ]
  },
  {
   "cell_type": "code",
   "execution_count": null,
   "metadata": {},
   "outputs": [],
   "source": [
    "torch.manual_seed(7)\n",
    "transform=transforms.Compose([transforms.ToTensor(),transforms.Normalize((0.5,0.5,0.5),(0.5,0.5,05.))])\n",
    "trainset=datasets.MNIST('mnistTrain/',train=True,transform=transform,download=True)\n",
    "trainloader=torch.utils.data.DataLoader(trainset,batch_size=64,shuffle=True)"
   ]
  },
  {
   "cell_type": "code",
   "execution_count": null,
   "metadata": {},
   "outputs": [],
   "source": [
    "torch.manual_seed(7)\n",
    "testset=datasets.MNIST('mnistTest/',train=False,transform=transform,download=True)\n",
    "testloader=torch.utils.data.DataLoader(testset,batch_size=64,shuffle=True)"
   ]
  },
  {
   "cell_type": "code",
   "execution_count": null,
   "metadata": {},
   "outputs": [],
   "source": [
    "image,label=next(iter(trainloader))\n",
    "imageTest,labelTest=next(iter(testloader))"
   ]
  },
  {
   "cell_type": "code",
   "execution_count": null,
   "metadata": {},
   "outputs": [],
   "source": [
    "plt.subplot(221)\n",
    "plt.imshow(image[10].view(28,28), cmap=plt.get_cmap('gray'))\n",
    "plt.subplot(222)\n",
    "plt.imshow(image[9].view(28,28), cmap=plt.get_cmap('gray'))\n",
    "plt.subplot(223)\n",
    "plt.imshow(image[2].view(28,28), cmap=plt.get_cmap('gray'))\n",
    "plt.subplot(224)\n",
    "plt.imshow(image[0].view(28,28), cmap=plt.get_cmap('gray'))\n",
    "# show the plot\n",
    "plt.show()"
   ]
  },
  {
   "cell_type": "code",
   "execution_count": null,
   "metadata": {},
   "outputs": [],
   "source": [
    "model=nn.Sequential(nn.Linear(784,256),\n",
    "                   nn.ReLU(),\n",
    "                   nn.Linear(256,128), \n",
    "                   nn.ReLU(),\n",
    "                   nn.Linear(128,64),\n",
    "                   nn.ReLU() ,\n",
    "                   nn.Linear(64,10),\n",
    "                   nn.LogSoftmax(dim=1))"
   ]
  },
  {
   "cell_type": "markdown",
   "metadata": {},
   "source": [
    "### learning rate: 0.004 "
   ]
  },
  {
   "cell_type": "code",
   "execution_count": null,
   "metadata": {},
   "outputs": [],
   "source": [
    "\n",
    "criterion=nn.NLLLoss()\n",
    "epochs=10\n",
    "optimizer=optim.SGD(model.parameters(),lr=0.004)\n",
    "errorTrain=[]\n",
    "errorTest=[]\n",
    "for e in range(epochs):\n",
    "    running_loss=0;\n",
    "    validation_loss=0;\n",
    "    for images,labels in trainloader:\n",
    "        optimizer.zero_grad()\n",
    "        logits=model(images.view(images.shape[0],-1))\n",
    "        loss=criterion(logits,labels)\n",
    "        loss.backward()\n",
    "        optimizer.step()\n",
    "        running_loss+=loss\n",
    "    else:\n",
    "        print(\"Training Loss: {}\".format(running_loss/len(trainloader)))\n",
    "    model.eval()\n",
    "    for imageTest,labelTest in testloader:\n",
    "        with torch.no_grad():\n",
    "            logits_test=model(imageTest.view(imageTest.shape[0],-1))\n",
    "        lossTest=criterion(logits_test,labelTest)\n",
    "        validation_loss+=lossTest\n",
    "    else:\n",
    "        print(\"Validation Loss: {}\".format(validation_loss/len(testloader)))\n",
    "        errorTest.append(validation_loss/len(testloader))\n",
    "        errorTrain.append(running_loss/len(trainloader))\n",
    "    model.train()    \n",
    "        \n",
    "        "
   ]
  },
  {
   "cell_type": "code",
   "execution_count": null,
   "metadata": {},
   "outputs": [],
   "source": []
  },
  {
   "cell_type": "code",
   "execution_count": null,
   "metadata": {},
   "outputs": [],
   "source": [
    "plt.plot([i for i in range(epochs)],errorTrain,label='Training loss')\n",
    "plt.plot([i for i in range(epochs)],errorTest,label='Validation loss')\n",
    "plt.legend()\n",
    "plt.title('Error plot when hyperparamter=0.004')\n",
    "plt.xlabel('number of epochs')\n",
    "plt.ylabel('error')\n",
    "plt.show()\n",
    "plt.savefig('0.004.png')"
   ]
  },
  {
   "cell_type": "markdown",
   "metadata": {},
   "source": [
    "###  Learning rate: 0.009"
   ]
  },
  {
   "cell_type": "code",
   "execution_count": null,
   "metadata": {},
   "outputs": [],
   "source": [
    "criterion=nn.NLLLoss()\n",
    "epochs=10\n",
    "optimizer=optim.SGD(model.parameters(),lr=0.009)\n",
    "errorTrain=[]\n",
    "errorTest=[]\n",
    "for e in range(epochs):\n",
    "    running_loss=0;\n",
    "    validation_loss=0;\n",
    "    for images,labels in trainloader:\n",
    "        optimizer.zero_grad()\n",
    "        logits=model(images.view(images.shape[0],-1))\n",
    "        loss=criterion(logits,labels)\n",
    "        loss.backward()\n",
    "        optimizer.step()\n",
    "        running_loss+=loss\n",
    "    else:\n",
    "        print(\"Training Loss: {}\".format(running_loss/len(trainloader)))\n",
    "    model.eval()\n",
    "    for imageTest,labelTest in testloader:\n",
    "        with torch.no_grad():\n",
    "            logits_test=model(imageTest.view(imageTest.shape[0],-1))\n",
    "        lossTest=criterion(logits_test,labelTest)\n",
    "        validation_loss+=lossTest\n",
    "    else:\n",
    "        print(\"Validation Loss: {}\".format(validation_loss/len(testloader)))\n",
    "        errorTest.append(validation_loss/len(testloader))\n",
    "        errorTrain.append(running_loss/len(trainloader))\n",
    "    model.train()    \n",
    "        "
   ]
  },
  {
   "cell_type": "code",
   "execution_count": null,
   "metadata": {},
   "outputs": [],
   "source": [
    "plt.plot([i for i in range(epochs)],errorTrain,label='Training loss')\n",
    "plt.plot([i for i in range(epochs)],errorTest,label='Validation loss')\n",
    "plt.legend()\n",
    "plt.title('Error plot when hyperparamter=0.009')\n",
    "plt.xlabel('number of epochs')\n",
    "plt.ylabel('error')\n",
    "plt.show()\n",
    "plt.savefig('0.0009.png')"
   ]
  },
  {
   "cell_type": "markdown",
   "metadata": {},
   "source": [
    "This shows that after 5 epochs the validation accuracy increase, this may be the right point to stop our training."
   ]
  },
  {
   "cell_type": "markdown",
   "metadata": {},
   "source": [
    "### Learning rate: 0.01"
   ]
  },
  {
   "cell_type": "code",
   "execution_count": null,
   "metadata": {},
   "outputs": [],
   "source": [
    "criterion=nn.NLLLoss()\n",
    "epochs=10\n",
    "optimizer=optim.SGD(model.parameters(),lr=0.01)\n",
    "errorTrain=[]\n",
    "errorTest=[]\n",
    "for e in range(epochs):\n",
    "    running_loss=0;\n",
    "    validation_loss=0;\n",
    "    for images,labels in trainloader:\n",
    "        optimizer.zero_grad()\n",
    "        logits=model(images.view(images.shape[0],-1))\n",
    "        loss=criterion(logits,labels)\n",
    "        loss.backward()\n",
    "        optimizer.step()\n",
    "        running_loss+=loss\n",
    "    else:\n",
    "        print(\"Training Loss: {}\".format(running_loss/len(trainloader)))\n",
    "    model.eval()\n",
    "    for imageTest,labelTest in testloader:\n",
    "        with torch.no_grad():\n",
    "            logits_test=model(imageTest.view(imageTest.shape[0],-1))\n",
    "        lossTest=criterion(logits_test,labelTest)\n",
    "        validation_loss+=lossTest\n",
    "    else:\n",
    "        print(\"Validation Loss: {}\".format(validation_loss/len(testloader)))\n",
    "        errorTest.append(validation_loss/len(testloader))\n",
    "        errorTrain.append(running_loss/len(trainloader))\n",
    "    model.train()      \n",
    "        "
   ]
  },
  {
   "cell_type": "code",
   "execution_count": null,
   "metadata": {},
   "outputs": [],
   "source": [
    "plt.plot([i for i in range(epochs)],errorTrain,label='Training loss')\n",
    "plt.plot([i for i in range(epochs)],errorTest,label='Validation loss')\n",
    "plt.legend()\n",
    "plt.title('Error plot when hyperparamter=0.001')\n",
    "plt.xlabel('number of epochs')\n",
    "plt.ylabel('error')\n",
    "plt.show()\n",
    "plt.savefig('0.001.png')"
   ]
  },
  {
   "cell_type": "markdown",
   "metadata": {},
   "source": [
    "Case of high variance (overfitting)"
   ]
  },
  {
   "cell_type": "code",
   "execution_count": null,
   "metadata": {},
   "outputs": [],
   "source": []
  },
  {
   "cell_type": "code",
   "execution_count": null,
   "metadata": {},
   "outputs": [],
   "source": []
  },
  {
   "cell_type": "code",
   "execution_count": null,
   "metadata": {},
   "outputs": [],
   "source": []
  },
  {
   "cell_type": "code",
   "execution_count": null,
   "metadata": {},
   "outputs": [],
   "source": []
  },
  {
   "cell_type": "code",
   "execution_count": null,
   "metadata": {},
   "outputs": [],
   "source": []
  },
  {
   "cell_type": "code",
   "execution_count": null,
   "metadata": {},
   "outputs": [],
   "source": []
  },
  {
   "cell_type": "code",
   "execution_count": null,
   "metadata": {},
   "outputs": [],
   "source": []
  },
  {
   "cell_type": "code",
   "execution_count": null,
   "metadata": {},
   "outputs": [],
   "source": [
    "\n"
   ]
  },
  {
   "cell_type": "code",
   "execution_count": null,
   "metadata": {},
   "outputs": [],
   "source": []
  },
  {
   "cell_type": "code",
   "execution_count": null,
   "metadata": {},
   "outputs": [],
   "source": []
  }
 ],
 "metadata": {
  "kernelspec": {
   "display_name": "Python 3",
   "language": "python",
   "name": "python3"
  },
  "language_info": {
   "codemirror_mode": {
    "name": "ipython",
    "version": 3
   },
   "file_extension": ".py",
   "mimetype": "text/x-python",
   "name": "python",
   "nbconvert_exporter": "python",
   "pygments_lexer": "ipython3",
   "version": "3.6.5"
  }
 },
 "nbformat": 4,
 "nbformat_minor": 2
}

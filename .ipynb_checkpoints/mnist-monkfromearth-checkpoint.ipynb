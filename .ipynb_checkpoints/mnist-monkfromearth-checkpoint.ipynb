{
 "cells": [
  {
   "cell_type": "code",
   "execution_count": null,
   "metadata": {},
   "outputs": [],
   "source": [
    "# Imports\n",
    "\n",
    "## For AOV\n",
    "\n",
    "import torch\n",
    "from torchvision import datasets, transforms\n",
    "from torch import nn, optim\n",
    "import torch.nn.functional as F\n",
    "\n",
    "# For Displaying and Saving Results\n",
    "\n",
    "import numpy as np\n",
    "import pandas as pd\n",
    "import matplotlib.pyplot as plt"
   ]
  },
  {
   "cell_type": "code",
   "execution_count": null,
   "metadata": {},
   "outputs": [],
   "source": [
    "torch.manual_seed(42) # the answer to the universe\n",
    "\n",
    "transform = transforms.Compose([\n",
    "    transforms.ToTensor(),\n",
    "    transforms.Normalize((0.5, 0.5, 0.5), (0.5, 0.5, 0.5))\n",
    "])\n",
    "\n",
    "dataset = {\n",
    "    'training':datasets.MNIST('mnist-monkfromearth/dataset/training/', download=True, train=True, transform=transform),\n",
    "    'testing':datasets.MNIST('mnist-monkfromearth/dataset/testing/', download=True, train=False, transform=transform)\n",
    "}\n",
    "\n",
    "dataloader = {\n",
    "    'training':torch.utils.data.DataLoader(dataset['training'], batch_size=64, shuffle=True),\n",
    "    'testing':torch.utils.data.DataLoader(dataset['testing'], batch_size=64, shuffle=True)\n",
    "}"
   ]
  },
  {
   "cell_type": "code",
   "execution_count": null,
   "metadata": {},
   "outputs": [],
   "source": [
    "# For showing images\n",
    "\n",
    "def imshow(image, ax=None, title=None, normalize=True):\n",
    "    \"\"\"Imshow for Tensor.\"\"\"\n",
    "    if ax is None:\n",
    "        fig, ax = plt.subplots()\n",
    "    image = image.numpy().transpose((1, 2, 0))\n",
    "\n",
    "    if normalize:\n",
    "        mean = np.array([0.485, 0.456, 0.406])\n",
    "        std = np.array([0.229, 0.224, 0.225])\n",
    "        image = std * image + mean\n",
    "        image = np.clip(image, 0, 1)\n",
    "\n",
    "    ax.imshow(image)\n",
    "    ax.spines['top'].set_visible(False)\n",
    "    ax.spines['right'].set_visible(False)\n",
    "    ax.spines['left'].set_visible(False)\n",
    "    ax.spines['bottom'].set_visible(False)\n",
    "    ax.tick_params(axis='both', length=0)\n",
    "    ax.set_xticklabels('')\n",
    "    ax.set_yticklabels('')\n",
    "\n",
    "    return ax"
   ]
  },
  {
   "cell_type": "code",
   "execution_count": null,
   "metadata": {},
   "outputs": [],
   "source": [
    "# Getting a sample image\n",
    "\n",
    "images, labels = next(iter(dataloader['training']))\n",
    "imshow(images[0])"
   ]
  },
  {
   "cell_type": "code",
   "execution_count": null,
   "metadata": {},
   "outputs": [],
   "source": [
    "# Creating a model, criterion\n",
    "\n",
    "model = nn.Sequential(\n",
    "    nn.Linear(784, 512),\n",
    "    nn.ReLU(),\n",
    "    nn.Dropout(0.3),\n",
    "    nn.Linear(512, 256),\n",
    "    nn.ReLU(),\n",
    "    nn.Dropout(0.3),\n",
    "    nn.Linear(256, 10)\n",
    ")\n",
    "\n",
    "criterion = nn.CrossEntropyLoss()"
   ]
  },
  {
   "cell_type": "code",
   "execution_count": null,
   "metadata": {},
   "outputs": [],
   "source": [
    "learning_rates = np.arange(0.001, 0.011, step=0.001, dtype=np.float64)\n",
    "momentums = np.arange(0.003, 0.01, step=0.003, dtype=np.float64)\n",
    "\n",
    "total = len(learning_rates) * len(momentums)\n",
    "\n",
    "data = pd.DataFrame(columns=['Learning Rate', 'Momentum', 'E1','E2','E3','E4','E5','E6','E7','E8','E9','E10','Accuracy'], index=range(1,total+1))"
   ]
  },
  {
   "cell_type": "code",
   "execution_count": null,
   "metadata": {},
   "outputs": [],
   "source": [
    "from itertools import product\n",
    "\n",
    "steps = 0\n",
    "\n",
    "for rate, momentum in list(product(learning_rates, momentums)):\n",
    "    optimizer = optim.SGD(model.parameters(), lr=rate, momentum=momentum)\n",
    "    \n",
    "    data.iloc[steps][0] = rate\n",
    "    data.iloc[steps][1] = momentum\n",
    "    \n",
    "    print(\"Learning Rate: {}, Momentum: {}\".format(rate, momentum))\n",
    "    \n",
    "    training_losses = []\n",
    "    test_losses = []\n",
    "    \n",
    "    epochs = 10\n",
    "    for e in range(epochs):\n",
    "        training_loss = 0\n",
    "        test_loss = 0\n",
    "        accuracy = 0\n",
    "        \n",
    "        for images, labels in dataloader['training']:\n",
    "            images = images.view(images.shape[0], -1)\n",
    "            scores = model(images)\n",
    "            optimizer.zero_grad()\n",
    "            loss = criterion(scores, labels)\n",
    "            loss.backward()\n",
    "            optimizer.step()\n",
    "            training_loss += loss.item()\n",
    "        else:\n",
    "            model.eval()\n",
    "            with torch.no_grad():\n",
    "                for images, labels in dataloader['testing']:\n",
    "                    images = images.view(images.shape[0], -1)\n",
    "                    scores = model(images)\n",
    "                    loss = criterion(scores, labels)\n",
    "                    test_loss += loss.item()\n",
    "                    ps = torch.exp(scores)\n",
    "                    top_p, top_class = ps.topk(1, dim=1)\n",
    "                    equality = top_class == labels.view(*top_class.shape)\n",
    "                    accuracy += torch.mean(equality.type(torch.FloatTensor))\n",
    "            current_training_loss = training_loss / len(dataloader['training'])\n",
    "            current_test_loss = test_loss / len(dataloader['testing'])\n",
    "            current_accuracy = accuracy / len(dataloader['testing']) \n",
    "        model.train()\n",
    "        training_losses.append(current_training_loss)\n",
    "        test_losses.append(current_test_loss)\n",
    "        data.iloc[steps][e + 2] = current_accuracy\n",
    "        print(\"Epoch: {}, Training Loss: {}, Test Loss: {}, Accuracy: {}\".format(e, current_training_loss, current_test_loss, current_accuracy))\n",
    "    print()\n",
    "    steps += 1\n",
    "    fig = plt.figure(figsize=(11,6))\n",
    "    plt.plot(train_losses, label='Training loss')\n",
    "    plt.plot(test_losses, label='Validation loss')\n",
    "    plt.ylabel('Loss')\n",
    "    plt.xlabel('Epochs')\n",
    "    plt.title(\"Rate:{}, Momentum:{}\".format(rate, momentum))\n",
    "    plt.legend()\n",
    "    plt.show()\n",
    "    fig.savefig(\"mnist-monkfromearth/results/LearningRate_{}_Momentum_{}.png\".format(rate, momentum))"
   ]
  },
  {
   "cell_type": "code",
   "execution_count": null,
   "metadata": {},
   "outputs": [],
   "source": [
    "data"
   ]
  }
 ],
 "metadata": {
  "kernelspec": {
   "display_name": "Python 2",
   "language": "python",
   "name": "python2"
  },
  "language_info": {
   "codemirror_mode": {
    "name": "ipython",
    "version": 3
   },
   "file_extension": ".py",
   "mimetype": "text/x-python",
   "name": "python",
   "nbconvert_exporter": "python",
   "pygments_lexer": "ipython3",
   "version": "3.5.2"
  }
 },
 "nbformat": 4,
 "nbformat_minor": 2
}

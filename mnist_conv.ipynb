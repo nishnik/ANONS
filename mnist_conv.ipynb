{
  "nbformat": 4,
  "nbformat_minor": 0,
  "metadata": {
    "colab": {
      "name": "Untitled10.ipynb",
      "version": "0.3.2",
      "provenance": []
    },
    "kernelspec": {
      "name": "python3",
      "display_name": "Python 3"
    },
    "accelerator": "TPU"
  },
  "cells": [
    {
      "metadata": {
        "id": "1-2lSANbgKOE",
        "colab_type": "code",
        "colab": {}
      },
      "cell_type": "code",
      "source": [
        "import tensorflow as tf\n",
        "import numpy as np\n",
        "import matplotlib.pyplot as plt\n",
        "%matplotlib inline\n",
        "from tensorflow.examples.tutorials.mnist import input_data\n"
      ],
      "execution_count": 0,
      "outputs": []
    },
    {
      "metadata": {
        "id": "RIaH4VSBg1js",
        "colab_type": "code",
        "colab": {}
      },
      "cell_type": "code",
      "source": [
        "from  tqdm import tqdm"
      ],
      "execution_count": 0,
      "outputs": []
    },
    {
      "metadata": {
        "id": "4tUYCv9hgO8m",
        "colab_type": "code",
        "colab": {}
      },
      "cell_type": "code",
      "source": [
        "mnist = input_data.read_data_sets(\"MNIST_data/\", one_hot=True)"
      ],
      "execution_count": 0,
      "outputs": []
    },
    {
      "metadata": {
        "id": "H9jw6hTQgcpa",
        "colab_type": "code",
        "colab": {
          "base_uri": "https://localhost:8080/",
          "height": 282
        },
        "outputId": "a2d5ce90-dcc4-4486-80b5-ca76f99bbe1c"
      },
      "cell_type": "code",
      "source": [
        "#printing sample image and its corresponding label\n",
        "plt.imshow(np.reshape((mnist.train.images[2]) , (28,28)))\n",
        "plt.show()\n",
        "print(\"Corresponding one hot label of the image \" + str( mnist.train.labels[2]))"
      ],
      "execution_count": 4,
      "outputs": [
        {
          "output_type": "display_data",
          "data": {
            "image/png": "[encoded data removed]",
            "text/plain": [
              "<matplotlib.figure.Figure at 0x7fefaa5de400>"
            ]
          },
          "metadata": {
            "tags": []
          }
        },
        {
          "output_type": "stream",
          "text": [
            "Corresponding one hot label of the image [0. 0. 0. 0. 1. 0. 0. 0. 0. 0.]\n"
          ],
          "name": "stdout"
        }
      ]
    },
    {
      "metadata": {
        "id": "6DoOSJAfghfg",
        "colab_type": "code",
        "colab": {}
      },
      "cell_type": "code",
      "source": [
        "#image_size = 28\n",
        "#labels_size = 10\n",
        "learning_rate = [1e-4, 1e-3, 2e-4, 2e-3, 3e-4, 3e-3, 6e-3, 2e-2, 1e-1, 1]\n",
        "#steps_number = 1000\n",
        "#batch_size = 100"
      ],
      "execution_count": 0,
      "outputs": []
    },
    {
      "metadata": {
        "id": "TwkTO3SggkWl",
        "colab_type": "code",
        "colab": {}
      },
      "cell_type": "code",
      "source": [
        "def create_placeholders():\n",
        "    x = tf.placeholder(tf.float32, shape = [None, 784])\n",
        "    y_ = tf.placeholder(tf.float32, shape = [None, 10])\n",
        "    return x , y_"
      ],
      "execution_count": 0,
      "outputs": []
    },
    {
      "metadata": {
        "id": "pfJ0YTGugnBU",
        "colab_type": "code",
        "colab": {}
      },
      "cell_type": "code",
      "source": [
        "#Function for initializing weights\n",
        "def weight_variable(shape, i):\n",
        "    \n",
        "    initial = tf.get_variable(name = \"W\" + str(i)  , shape = shape, initializer = tf.contrib.layers.xavier_initializer())\n",
        "    return initial\n",
        "\n",
        "#Function for bias\n",
        "def bias_variable(shape):\n",
        "    \n",
        "    initial = tf.constant(0.1, shape=shape)\n",
        "    return tf.Variable(initial)    \n",
        "  \n",
        "#Function for convolution with stride = s and same padding!!!!! For example stride = 1 =>[1,1,1,1]\n",
        "def conv2d(x, W, s):\n",
        "     \n",
        "    return tf.nn.conv2d(input = x, filter = W, padding = \"SAME\", strides = s)\n",
        "\n",
        "#Function of max pooling over 2*2 block \n",
        "def max_pooling_2x2(x):\n",
        "    \n",
        "    return tf.nn.max_pool(x, ksize = [1,2,2,1], strides = [1,2,2,1] ,padding = \"SAME\")"
      ],
      "execution_count": 0,
      "outputs": []
    },
    {
      "metadata": {
        "id": "o4q8-f44gqHQ",
        "colab_type": "code",
        "colab": {}
      },
      "cell_type": "code",
      "source": [
        "\n",
        "# The architecture is similar to https://www.tensorflow.org/get_started/mnist/pros without applying the batch normalization\n",
        "x, y_ = create_placeholders()\n",
        "\n",
        "# Input layer where single input image shape is (1,784)\n",
        "x_image = tf.reshape(x, [-1,28,28,1])\n",
        "\n",
        "# Convolution layer 1 - 32 x 5 x 5 \n",
        "# Conv -> Relu -> Max_pool\n",
        "W_conv1 = weight_variable([5, 5, 1, 32], 1)\n",
        "b_conv1 = bias_variable([32])\n",
        "x_conv1 = conv2d(x_image, W_conv1, [1,1,1,1]) + b_conv1\n",
        "y1 = tf.nn.relu(x_conv1)\n",
        "x_pool1 = max_pooling_2x2(y1)\n",
        "\n",
        "# Conv layer 2 - 64 x 5 x 5\n",
        "# Conv -> Relu -> Max_pool\n",
        "W_conv2 = weight_variable([5, 5, 32, 64], 2)\n",
        "b_conv2 = bias_variable([64])\n",
        "x_conv2 = conv2d(x_pool1, W_conv2, [1,1,1,1]) + b_conv2\n",
        "y2 = tf.nn.relu(x_conv2)\n",
        "x_pool2 = max_pooling_2x2(y2)\n",
        "\n",
        "# Flatten \n",
        "\n",
        "x_flat = tf.contrib.layers.flatten(x_pool2)  #tf.reshape(x_pool2, [-1, 7 * 7 * 64])\n",
        "\n",
        "# Dense fully connected layer\n",
        "x_fc1 = tf.contrib.layers.fully_connected(x_flat, num_outputs = 1024 , activation_fn= tf.nn.relu )    #Tensorflow here takes care of the bias\n",
        "\n",
        "#Here try 1 without Dropout\n",
        "\n",
        "#Classification Layer\n",
        "y_conv = tf.contrib.layers.fully_connected(x_fc1, num_outputs = 10, activation_fn= None)               #Tensorflow here takes care of the bias"
      ],
      "execution_count": 0,
      "outputs": []
    },
    {
      "metadata": {
        "id": "QR39bJ4kgs6R",
        "colab_type": "code",
        "colab": {
          "base_uri": "https://localhost:8080/",
          "height": 153
        },
        "outputId": "b4cf41d6-296a-4092-80e3-4dab1c49a59f"
      },
      "cell_type": "code",
      "source": [
        "\n",
        "# Probabilities output from model\n",
        "y = tf.nn.softmax(y_conv)\n",
        "\n",
        "#compute cost\n",
        "cross_entropy = tf.reduce_mean(tf.nn.softmax_cross_entropy_with_logits(labels = y_, logits=y_conv))\n",
        "#train step\n",
        "train_step0 = tf.train.AdamOptimizer(learning_rate[0]).minimize(cross_entropy)\n",
        "train_step1 = tf.train.AdamOptimizer(learning_rate[1]).minimize(cross_entropy)\n",
        "train_step2 = tf.train.AdamOptimizer(learning_rate[2]).minimize(cross_entropy)\n",
        "train_step3 = tf.train.AdamOptimizer(learning_rate[3]).minimize(cross_entropy)\n",
        "train_step4 = tf.train.AdamOptimizer(learning_rate[4]).minimize(cross_entropy)\n",
        "train_step5 = tf.train.AdamOptimizer(learning_rate[5]).minimize(cross_entropy)\n",
        "train_step6 = tf.train.AdamOptimizer(learning_rate[6]).minimize(cross_entropy)\n",
        "train_step7 = tf.train.AdamOptimizer(learning_rate[7]).minimize(cross_entropy)\n",
        "train_step8 = tf.train.AdamOptimizer(learning_rate[8]).minimize(cross_entropy)\n",
        "train_step9 = tf.train.AdamOptimizer(learning_rate[9]).minimize(cross_entropy)"
      ],
      "execution_count": 9,
      "outputs": [
        {
          "output_type": "stream",
          "text": [
            "WARNING:tensorflow:From <ipython-input-9-bfdf84cbd75e>:4: softmax_cross_entropy_with_logits (from tensorflow.python.ops.nn_ops) is deprecated and will be removed in a future version.\n",
            "Instructions for updating:\n",
            "\n",
            "Future major versions of TensorFlow will allow gradients to flow\n",
            "into the labels input on backprop by default.\n",
            "\n",
            "See `tf.nn.softmax_cross_entropy_with_logits_v2`.\n",
            "\n"
          ],
          "name": "stdout"
        }
      ]
    },
    {
      "metadata": {
        "id": "WtGWUN0tgvFN",
        "colab_type": "code",
        "colab": {}
      },
      "cell_type": "code",
      "source": [
        "correct_prediction = tf.equal(tf.argmax(y_conv,1), tf.argmax(y_,1))     #Returns the index with the largest value across axes of a tensor.\n",
        "accuracy = tf.reduce_mean(tf.cast(correct_prediction, tf.float32))"
      ],
      "execution_count": 0,
      "outputs": []
    },
    {
      "metadata": {
        "id": "BYN6M_5Kg8qB",
        "colab_type": "code",
        "colab": {
          "base_uri": "https://localhost:8080/",
          "height": 535
        },
        "outputId": "2c9a6b19-0029-499a-f481-05c0f2c2a7b5"
      },
      "cell_type": "code",
      "source": [
        "#0\n",
        "sess = tf.InteractiveSession()\n",
        "sess.run(tf.global_variables_initializer())\n",
        "epochs_vector = []\n",
        "accuracy_vector = []\n",
        "batch_size = 100\n",
        "\n",
        "for i in tqdm(range(100)):\n",
        "    batch = mnist.train.next_batch(batch_size)\n",
        "    train_accuracy = accuracy.eval(feed_dict={x:batch[0], y_: batch[1]})  #t.eval() is a shortcut for calling tf.get_default_session().run(t)\n",
        "    if(i % 10 == 0):\n",
        "        print(\"Epoch %d, training accuracy %g\"%(i, train_accuracy))\n",
        "    epochs_vector.append(i)\n",
        "    accuracy_vector.append(train_accuracy)\n",
        "    train_step0.run(feed_dict={x: batch[0], y_: batch[1]})   #op.run() is a shortcut for calling tf.get_default_session().run(op)\n",
        "\n",
        "plt.title('Accuracy vs epochs learning rate={} and batch size={}'.format(learning_rate[0], batch_size))\n",
        "plt.xlabel(\"epochs\")\n",
        "plt.ylabel(\"accuracy\")\n",
        "plt.plot(epochs_vector, accuracy_vector)\n",
        "plt.show()\n",
        "sess.close()\n"
      ],
      "execution_count": 55,
      "outputs": [
        {
          "output_type": "stream",
          "text": [
            "/usr/local/lib/python3.6/dist-packages/tensorflow/python/client/session.py:1702: UserWarning: An interactive session is already active. This can cause out-of-memory errors in some cases. You must explicitly call `InteractiveSession.close()` to release resources held by the other session(s).\n",
            "  warnings.warn('An interactive session is already active. This can '\n",
            "  0%|          | 0/100 [00:00<?, ?it/s]"
          ],
          "name": "stderr"
        },
        {
          "output_type": "stream",
          "text": [
            "Epoch 0, training accuracy 0.08\n"
          ],
          "name": "stdout"
        },
        {
          "output_type": "stream",
          "text": [
            " 10%|█         | 10/100 [00:04<00:35,  2.50it/s]"
          ],
          "name": "stderr"
        },
        {
          "output_type": "stream",
          "text": [
            "Epoch 10, training accuracy 0.23\n"
          ],
          "name": "stdout"
        },
        {
          "output_type": "stream",
          "text": [
            " 20%|██        | 20/100 [00:08<00:31,  2.55it/s]"
          ],
          "name": "stderr"
        },
        {
          "output_type": "stream",
          "text": [
            "Epoch 20, training accuracy 0.4\n"
          ],
          "name": "stdout"
        },
        {
          "output_type": "stream",
          "text": [
            " 30%|███       | 30/100 [00:11<00:27,  2.52it/s]"
          ],
          "name": "stderr"
        },
        {
          "output_type": "stream",
          "text": [
            "Epoch 30, training accuracy 0.56\n"
          ],
          "name": "stdout"
        },
        {
          "output_type": "stream",
          "text": [
            " 40%|████      | 40/100 [00:15<00:23,  2.52it/s]"
          ],
          "name": "stderr"
        },
        {
          "output_type": "stream",
          "text": [
            "Epoch 40, training accuracy 0.65\n"
          ],
          "name": "stdout"
        },
        {
          "output_type": "stream",
          "text": [
            " 50%|█████     | 50/100 [00:19<00:19,  2.54it/s]"
          ],
          "name": "stderr"
        },
        {
          "output_type": "stream",
          "text": [
            "Epoch 50, training accuracy 0.62\n"
          ],
          "name": "stdout"
        },
        {
          "output_type": "stream",
          "text": [
            " 60%|██████    | 60/100 [00:23<00:15,  2.53it/s]"
          ],
          "name": "stderr"
        },
        {
          "output_type": "stream",
          "text": [
            "Epoch 60, training accuracy 0.86\n"
          ],
          "name": "stdout"
        },
        {
          "output_type": "stream",
          "text": [
            " 70%|███████   | 70/100 [00:27<00:11,  2.55it/s]"
          ],
          "name": "stderr"
        },
        {
          "output_type": "stream",
          "text": [
            "Epoch 70, training accuracy 0.85\n"
          ],
          "name": "stdout"
        },
        {
          "output_type": "stream",
          "text": [
            " 80%|████████  | 80/100 [00:31<00:07,  2.55it/s]"
          ],
          "name": "stderr"
        },
        {
          "output_type": "stream",
          "text": [
            "Epoch 80, training accuracy 0.86\n"
          ],
          "name": "stdout"
        },
        {
          "output_type": "stream",
          "text": [
            " 90%|█████████ | 90/100 [00:35<00:03,  2.54it/s]"
          ],
          "name": "stderr"
        },
        {
          "output_type": "stream",
          "text": [
            "Epoch 90, training accuracy 0.94\n"
          ],
          "name": "stdout"
        },
        {
          "output_type": "stream",
          "text": [
            "100%|██████████| 100/100 [00:39<00:00,  2.56it/s]\n"
          ],
          "name": "stderr"
        },
        {
          "output_type": "display_data",
          "data": {
            "image/png": "[encoded data removed]",
            "text/plain": [
              "<matplotlib.figure.Figure at 0x7fefa18b0630>"
            ]
          },
          "metadata": {
            "tags": []
          }
        }
      ]
    },
    {
      "metadata": {
        "id": "s76tMNb3g_A2",
        "colab_type": "code",
        "colab": {
          "base_uri": "https://localhost:8080/",
          "height": 535
        },
        "outputId": "a953be60-75da-48f5-9211-d1469f5009d8"
      },
      "cell_type": "code",
      "source": [
        "#1\n",
        "sess = tf.InteractiveSession()\n",
        "sess.run(tf.global_variables_initializer())\n",
        "epochs_vector = []\n",
        "accuracy_vector = []\n",
        "batch_size = 100\n",
        "\n",
        "for i in tqdm(range(100)):\n",
        "    batch = mnist.train.next_batch(batch_size)\n",
        "    train_accuracy = accuracy.eval(feed_dict={x:batch[0], y_: batch[1]})  #t.eval() is a shortcut for calling tf.get_default_session().run(t)\n",
        "    if(i % 10 == 0):\n",
        "        print(\"Epoch %d, training accuracy %g\"%(i, train_accuracy))\n",
        "    epochs_vector.append(i)\n",
        "    accuracy_vector.append(train_accuracy)\n",
        "    train_step1.run(feed_dict={x: batch[0], y_: batch[1]})   #op.run() is a shortcut for calling tf.get_default_session().run(op)\n",
        "\n",
        "plt.title('Accuracy vs epochs learning rate={} and batch size={}'.format(learning_rate[1], batch_size))\n",
        "plt.xlabel(\"epochs\")\n",
        "plt.ylabel(\"accuracy\")\n",
        "plt.plot(epochs_vector, accuracy_vector)\n",
        "plt.show()\n",
        "sess.close()"
      ],
      "execution_count": 56,
      "outputs": [
        {
          "output_type": "stream",
          "text": [
            "/usr/local/lib/python3.6/dist-packages/tensorflow/python/client/session.py:1702: UserWarning: An interactive session is already active. This can cause out-of-memory errors in some cases. You must explicitly call `InteractiveSession.close()` to release resources held by the other session(s).\n",
            "  warnings.warn('An interactive session is already active. This can '\n",
            "  0%|          | 0/100 [00:00<?, ?it/s]"
          ],
          "name": "stderr"
        },
        {
          "output_type": "stream",
          "text": [
            "Epoch 0, training accuracy 0.09\n"
          ],
          "name": "stdout"
        },
        {
          "output_type": "stream",
          "text": [
            " 10%|█         | 10/100 [00:04<00:35,  2.51it/s]"
          ],
          "name": "stderr"
        },
        {
          "output_type": "stream",
          "text": [
            "Epoch 10, training accuracy 0.16\n"
          ],
          "name": "stdout"
        },
        {
          "output_type": "stream",
          "text": [
            " 20%|██        | 20/100 [00:07<00:31,  2.55it/s]"
          ],
          "name": "stderr"
        },
        {
          "output_type": "stream",
          "text": [
            "Epoch 20, training accuracy 0.35\n"
          ],
          "name": "stdout"
        },
        {
          "output_type": "stream",
          "text": [
            " 30%|███       | 30/100 [00:11<00:27,  2.55it/s]"
          ],
          "name": "stderr"
        },
        {
          "output_type": "stream",
          "text": [
            "Epoch 30, training accuracy 0.62\n"
          ],
          "name": "stdout"
        },
        {
          "output_type": "stream",
          "text": [
            " 40%|████      | 40/100 [00:15<00:23,  2.56it/s]"
          ],
          "name": "stderr"
        },
        {
          "output_type": "stream",
          "text": [
            "Epoch 40, training accuracy 0.86\n"
          ],
          "name": "stdout"
        },
        {
          "output_type": "stream",
          "text": [
            " 50%|█████     | 50/100 [00:19<00:19,  2.55it/s]"
          ],
          "name": "stderr"
        },
        {
          "output_type": "stream",
          "text": [
            "Epoch 50, training accuracy 0.81\n"
          ],
          "name": "stdout"
        },
        {
          "output_type": "stream",
          "text": [
            " 60%|██████    | 60/100 [00:23<00:15,  2.57it/s]"
          ],
          "name": "stderr"
        },
        {
          "output_type": "stream",
          "text": [
            "Epoch 60, training accuracy 0.81\n"
          ],
          "name": "stdout"
        },
        {
          "output_type": "stream",
          "text": [
            " 70%|███████   | 70/100 [00:27<00:11,  2.57it/s]"
          ],
          "name": "stderr"
        },
        {
          "output_type": "stream",
          "text": [
            "Epoch 70, training accuracy 0.91\n"
          ],
          "name": "stdout"
        },
        {
          "output_type": "stream",
          "text": [
            " 80%|████████  | 80/100 [00:31<00:07,  2.54it/s]"
          ],
          "name": "stderr"
        },
        {
          "output_type": "stream",
          "text": [
            "Epoch 80, training accuracy 0.96\n"
          ],
          "name": "stdout"
        },
        {
          "output_type": "stream",
          "text": [
            " 90%|█████████ | 90/100 [00:35<00:03,  2.55it/s]"
          ],
          "name": "stderr"
        },
        {
          "output_type": "stream",
          "text": [
            "Epoch 90, training accuracy 0.94\n"
          ],
          "name": "stdout"
        },
        {
          "output_type": "stream",
          "text": [
            "100%|██████████| 100/100 [00:39<00:00,  2.55it/s]\n"
          ],
          "name": "stderr"
        },
        {
          "output_type": "display_data",
          "data": {
            "image/png": "[encoded data removed]",
            "text/plain": [
              "<matplotlib.figure.Figure at 0x7fefa234e860>"
            ]
          },
          "metadata": {
            "tags": []
          }
        }
      ]
    },
    {
      "metadata": {
        "id": "541FO95pj0Ng",
        "colab_type": "code",
        "colab": {
          "base_uri": "https://localhost:8080/",
          "height": 535
        },
        "outputId": "29dcef76-8181-479c-aff2-281703c1acad"
      },
      "cell_type": "code",
      "source": [
        "#2\n",
        "sess = tf.InteractiveSession()\n",
        "sess.run(tf.global_variables_initializer())\n",
        "epochs_vector = []\n",
        "accuracy_vector = []\n",
        "batch_size = 100\n",
        "\n",
        "for i in tqdm(range(100)):\n",
        "    batch = mnist.train.next_batch(batch_size)\n",
        "    train_accuracy = accuracy.eval(feed_dict={x:batch[0], y_: batch[1]})  #t.eval() is a shortcut for calling tf.get_default_session().run(t)\n",
        "    if(i % 10 == 0):\n",
        "        print(\"Epoch %d, training accuracy %g\"%(i, train_accuracy))\n",
        "    epochs_vector.append(i)\n",
        "    accuracy_vector.append(train_accuracy)\n",
        "    train_step2.run(feed_dict={x: batch[0], y_: batch[1]})   #op.run() is a shortcut for calling tf.get_default_session().run(op)\n",
        "\n",
        "plt.title('Accuracy vs epochs learning rate={} and batch size={}'.format(learning_rate[2], batch_size))\n",
        "plt.xlabel(\"epochs\")\n",
        "plt.ylabel(\"accuracy\")\n",
        "plt.plot(epochs_vector, accuracy_vector)\n",
        "plt.show()\n",
        "sess.close()"
      ],
      "execution_count": 57,
      "outputs": [
        {
          "output_type": "stream",
          "text": [
            "/usr/local/lib/python3.6/dist-packages/tensorflow/python/client/session.py:1702: UserWarning: An interactive session is already active. This can cause out-of-memory errors in some cases. You must explicitly call `InteractiveSession.close()` to release resources held by the other session(s).\n",
            "  warnings.warn('An interactive session is already active. This can '\n",
            "  0%|          | 0/100 [00:00<?, ?it/s]"
          ],
          "name": "stderr"
        },
        {
          "output_type": "stream",
          "text": [
            "Epoch 0, training accuracy 0.12\n"
          ],
          "name": "stdout"
        },
        {
          "output_type": "stream",
          "text": [
            " 10%|█         | 10/100 [00:04<00:35,  2.50it/s]"
          ],
          "name": "stderr"
        },
        {
          "output_type": "stream",
          "text": [
            "Epoch 10, training accuracy 0.43\n"
          ],
          "name": "stdout"
        },
        {
          "output_type": "stream",
          "text": [
            " 20%|██        | 20/100 [00:08<00:31,  2.52it/s]"
          ],
          "name": "stderr"
        },
        {
          "output_type": "stream",
          "text": [
            "Epoch 20, training accuracy 0.71\n"
          ],
          "name": "stdout"
        },
        {
          "output_type": "stream",
          "text": [
            " 30%|███       | 30/100 [00:11<00:27,  2.55it/s]"
          ],
          "name": "stderr"
        },
        {
          "output_type": "stream",
          "text": [
            "Epoch 30, training accuracy 0.71\n"
          ],
          "name": "stdout"
        },
        {
          "output_type": "stream",
          "text": [
            " 40%|████      | 40/100 [00:15<00:23,  2.51it/s]"
          ],
          "name": "stderr"
        },
        {
          "output_type": "stream",
          "text": [
            "Epoch 40, training accuracy 0.71\n"
          ],
          "name": "stdout"
        },
        {
          "output_type": "stream",
          "text": [
            " 50%|█████     | 50/100 [00:19<00:19,  2.53it/s]"
          ],
          "name": "stderr"
        },
        {
          "output_type": "stream",
          "text": [
            "Epoch 50, training accuracy 0.85\n"
          ],
          "name": "stdout"
        },
        {
          "output_type": "stream",
          "text": [
            " 60%|██████    | 60/100 [00:23<00:15,  2.53it/s]"
          ],
          "name": "stderr"
        },
        {
          "output_type": "stream",
          "text": [
            "Epoch 60, training accuracy 0.88\n"
          ],
          "name": "stdout"
        },
        {
          "output_type": "stream",
          "text": [
            " 70%|███████   | 70/100 [00:27<00:12,  2.49it/s]"
          ],
          "name": "stderr"
        },
        {
          "output_type": "stream",
          "text": [
            "Epoch 70, training accuracy 0.83\n"
          ],
          "name": "stdout"
        },
        {
          "output_type": "stream",
          "text": [
            " 80%|████████  | 80/100 [00:31<00:07,  2.52it/s]"
          ],
          "name": "stderr"
        },
        {
          "output_type": "stream",
          "text": [
            "Epoch 80, training accuracy 0.89\n"
          ],
          "name": "stdout"
        },
        {
          "output_type": "stream",
          "text": [
            " 90%|█████████ | 90/100 [00:35<00:03,  2.53it/s]"
          ],
          "name": "stderr"
        },
        {
          "output_type": "stream",
          "text": [
            "Epoch 90, training accuracy 0.82\n"
          ],
          "name": "stdout"
        },
        {
          "output_type": "stream",
          "text": [
            "100%|██████████| 100/100 [00:39<00:00,  2.52it/s]\n"
          ],
          "name": "stderr"
        },
        {
          "output_type": "display_data",
          "data": {
            "image/png": "[encoded data removed]",
            "text/plain": [
              "<matplotlib.figure.Figure at 0x7fefa23d7940>"
            ]
          },
          "metadata": {
            "tags": []
          }
        }
      ]
    },
    {
      "metadata": {
        "id": "mhSxhtrUkJQT",
        "colab_type": "code",
        "colab": {
          "base_uri": "https://localhost:8080/",
          "height": 535
        },
        "outputId": "3645f56f-e8ed-41bd-e56d-576daecbd096"
      },
      "cell_type": "code",
      "source": [
        "#3\n",
        "sess = tf.InteractiveSession()\n",
        "sess.run(tf.global_variables_initializer())\n",
        "epochs_vector = []\n",
        "accuracy_vector = []\n",
        "batch_size = 100\n",
        "\n",
        "for i in tqdm(range(100)):\n",
        "    batch = mnist.train.next_batch(batch_size)\n",
        "    train_accuracy = accuracy.eval(feed_dict={x:batch[0], y_: batch[1]})  #t.eval() is a shortcut for calling tf.get_default_session().run(t)\n",
        "    if(i % 10 == 0):\n",
        "        print(\"Epoch %d, training accuracy %g\"%(i, train_accuracy))\n",
        "    epochs_vector.append(i)\n",
        "    accuracy_vector.append(train_accuracy)\n",
        "    train_step3.run(feed_dict={x: batch[0], y_: batch[1]})   #op.run() is a shortcut for calling tf.get_default_session().run(op)\n",
        "\n",
        "plt.title('Accuracy vs epochs learning rate={} and batch size={}'.format(learning_rate[3], batch_size))\n",
        "plt.xlabel(\"epochs\")\n",
        "plt.ylabel(\"accuracy\")\n",
        "plt.plot(epochs_vector, accuracy_vector)\n",
        "plt.show()\n",
        "sess.close()\n"
      ],
      "execution_count": 58,
      "outputs": [
        {
          "output_type": "stream",
          "text": [
            "/usr/local/lib/python3.6/dist-packages/tensorflow/python/client/session.py:1702: UserWarning: An interactive session is already active. This can cause out-of-memory errors in some cases. You must explicitly call `InteractiveSession.close()` to release resources held by the other session(s).\n",
            "  warnings.warn('An interactive session is already active. This can '\n",
            "  0%|          | 0/100 [00:00<?, ?it/s]"
          ],
          "name": "stderr"
        },
        {
          "output_type": "stream",
          "text": [
            "Epoch 0, training accuracy 0.13\n"
          ],
          "name": "stdout"
        },
        {
          "output_type": "stream",
          "text": [
            " 10%|█         | 10/100 [00:04<00:35,  2.50it/s]"
          ],
          "name": "stderr"
        },
        {
          "output_type": "stream",
          "text": [
            "Epoch 10, training accuracy 0.1\n"
          ],
          "name": "stdout"
        },
        {
          "output_type": "stream",
          "text": [
            " 20%|██        | 20/100 [00:08<00:31,  2.55it/s]"
          ],
          "name": "stderr"
        },
        {
          "output_type": "stream",
          "text": [
            "Epoch 20, training accuracy 0.1\n"
          ],
          "name": "stdout"
        },
        {
          "output_type": "stream",
          "text": [
            " 30%|███       | 30/100 [00:11<00:27,  2.54it/s]"
          ],
          "name": "stderr"
        },
        {
          "output_type": "stream",
          "text": [
            "Epoch 30, training accuracy 0.1\n"
          ],
          "name": "stdout"
        },
        {
          "output_type": "stream",
          "text": [
            " 40%|████      | 40/100 [00:15<00:23,  2.53it/s]"
          ],
          "name": "stderr"
        },
        {
          "output_type": "stream",
          "text": [
            "Epoch 40, training accuracy 0.06\n"
          ],
          "name": "stdout"
        },
        {
          "output_type": "stream",
          "text": [
            " 50%|█████     | 50/100 [00:19<00:19,  2.54it/s]"
          ],
          "name": "stderr"
        },
        {
          "output_type": "stream",
          "text": [
            "Epoch 50, training accuracy 0.1\n"
          ],
          "name": "stdout"
        },
        {
          "output_type": "stream",
          "text": [
            " 60%|██████    | 60/100 [00:23<00:15,  2.52it/s]"
          ],
          "name": "stderr"
        },
        {
          "output_type": "stream",
          "text": [
            "Epoch 60, training accuracy 0.13\n"
          ],
          "name": "stdout"
        },
        {
          "output_type": "stream",
          "text": [
            " 70%|███████   | 70/100 [00:27<00:11,  2.52it/s]"
          ],
          "name": "stderr"
        },
        {
          "output_type": "stream",
          "text": [
            "Epoch 70, training accuracy 0.11\n"
          ],
          "name": "stdout"
        },
        {
          "output_type": "stream",
          "text": [
            " 80%|████████  | 80/100 [00:31<00:08,  2.49it/s]"
          ],
          "name": "stderr"
        },
        {
          "output_type": "stream",
          "text": [
            "Epoch 80, training accuracy 0.12\n"
          ],
          "name": "stdout"
        },
        {
          "output_type": "stream",
          "text": [
            " 90%|█████████ | 90/100 [00:35<00:04,  2.46it/s]"
          ],
          "name": "stderr"
        },
        {
          "output_type": "stream",
          "text": [
            "Epoch 90, training accuracy 0.11\n"
          ],
          "name": "stdout"
        },
        {
          "output_type": "stream",
          "text": [
            "100%|██████████| 100/100 [00:39<00:00,  2.49it/s]\n"
          ],
          "name": "stderr"
        },
        {
          "output_type": "display_data",
          "data": {
            "image/png": "[encoded data removed]",
            "text/plain": [
              "<matplotlib.figure.Figure at 0x7fefa1c20160>"
            ]
          },
          "metadata": {
            "tags": []
          }
        }
      ]
    },
    {
      "metadata": {
        "id": "29QXNrr1m2Xp",
        "colab_type": "code",
        "colab": {
          "base_uri": "https://localhost:8080/",
          "height": 535
        },
        "outputId": "f420ad0d-c81b-4dc0-fa6f-46bed310e896"
      },
      "cell_type": "code",
      "source": [
        "#4\n",
        "sess = tf.InteractiveSession()\n",
        "sess.run(tf.global_variables_initializer())\n",
        "epochs_vector = []\n",
        "accuracy_vector = []\n",
        "batch_size = 100\n",
        "\n",
        "for i in tqdm(range(100)):\n",
        "    batch = mnist.train.next_batch(batch_size)\n",
        "    train_accuracy = accuracy.eval(feed_dict={x:batch[0], y_: batch[1]})  #t.eval() is a shortcut for calling tf.get_default_session().run(t)\n",
        "    if(i % 10 == 0):\n",
        "        print(\"Epoch %d, training accuracy %g\"%(i, train_accuracy))\n",
        "    epochs_vector.append(i)\n",
        "    accuracy_vector.append(train_accuracy)\n",
        "    train_step4.run(feed_dict={x: batch[0], y_: batch[1]})   #op.run() is a shortcut for calling tf.get_default_session().run(op)\n",
        "\n",
        "plt.title('Accuracy vs epochs learning rate={} and batch size={}'.format(learning_rate[4], batch_size))\n",
        "plt.xlabel(\"epochs\")\n",
        "plt.ylabel(\"accuracy\")\n",
        "plt.plot(epochs_vector, accuracy_vector)\n",
        "plt.show()\n",
        "sess.close()\n"
      ],
      "execution_count": 59,
      "outputs": [
        {
          "output_type": "stream",
          "text": [
            "/usr/local/lib/python3.6/dist-packages/tensorflow/python/client/session.py:1702: UserWarning: An interactive session is already active. This can cause out-of-memory errors in some cases. You must explicitly call `InteractiveSession.close()` to release resources held by the other session(s).\n",
            "  warnings.warn('An interactive session is already active. This can '\n",
            "  0%|          | 0/100 [00:00<?, ?it/s]"
          ],
          "name": "stderr"
        },
        {
          "output_type": "stream",
          "text": [
            "Epoch 0, training accuracy 0.13\n"
          ],
          "name": "stdout"
        },
        {
          "output_type": "stream",
          "text": [
            " 10%|█         | 10/100 [00:04<00:36,  2.47it/s]"
          ],
          "name": "stderr"
        },
        {
          "output_type": "stream",
          "text": [
            "Epoch 10, training accuracy 0.43\n"
          ],
          "name": "stdout"
        },
        {
          "output_type": "stream",
          "text": [
            " 20%|██        | 20/100 [00:08<00:31,  2.50it/s]"
          ],
          "name": "stderr"
        },
        {
          "output_type": "stream",
          "text": [
            "Epoch 20, training accuracy 0.67\n"
          ],
          "name": "stdout"
        },
        {
          "output_type": "stream",
          "text": [
            " 30%|███       | 30/100 [00:12<00:27,  2.52it/s]"
          ],
          "name": "stderr"
        },
        {
          "output_type": "stream",
          "text": [
            "Epoch 30, training accuracy 0.72\n"
          ],
          "name": "stdout"
        },
        {
          "output_type": "stream",
          "text": [
            " 40%|████      | 40/100 [00:16<00:23,  2.52it/s]"
          ],
          "name": "stderr"
        },
        {
          "output_type": "stream",
          "text": [
            "Epoch 40, training accuracy 0.81\n"
          ],
          "name": "stdout"
        },
        {
          "output_type": "stream",
          "text": [
            " 50%|█████     | 50/100 [00:20<00:19,  2.52it/s]"
          ],
          "name": "stderr"
        },
        {
          "output_type": "stream",
          "text": [
            "Epoch 50, training accuracy 0.91\n"
          ],
          "name": "stdout"
        },
        {
          "output_type": "stream",
          "text": [
            " 60%|██████    | 60/100 [00:24<00:15,  2.51it/s]"
          ],
          "name": "stderr"
        },
        {
          "output_type": "stream",
          "text": [
            "Epoch 60, training accuracy 0.82\n"
          ],
          "name": "stdout"
        },
        {
          "output_type": "stream",
          "text": [
            " 70%|███████   | 70/100 [00:28<00:11,  2.52it/s]"
          ],
          "name": "stderr"
        },
        {
          "output_type": "stream",
          "text": [
            "Epoch 70, training accuracy 0.87\n"
          ],
          "name": "stdout"
        },
        {
          "output_type": "stream",
          "text": [
            " 80%|████████  | 80/100 [00:32<00:08,  2.41it/s]"
          ],
          "name": "stderr"
        },
        {
          "output_type": "stream",
          "text": [
            "Epoch 80, training accuracy 0.92\n"
          ],
          "name": "stdout"
        },
        {
          "output_type": "stream",
          "text": [
            " 90%|█████████ | 90/100 [00:36<00:04,  2.38it/s]"
          ],
          "name": "stderr"
        },
        {
          "output_type": "stream",
          "text": [
            "Epoch 90, training accuracy 0.93\n"
          ],
          "name": "stdout"
        },
        {
          "output_type": "stream",
          "text": [
            "100%|██████████| 100/100 [00:40<00:00,  2.48it/s]\n"
          ],
          "name": "stderr"
        },
        {
          "output_type": "display_data",
          "data": {
            "image/png": "[encoded data removed]",
            "text/plain": [
              "<matplotlib.figure.Figure at 0x7fefa1d6f940>"
            ]
          },
          "metadata": {
            "tags": []
          }
        }
      ]
    },
    {
      "metadata": {
        "id": "8oGF82M9ppAa",
        "colab_type": "code",
        "colab": {
          "base_uri": "https://localhost:8080/",
          "height": 535
        },
        "outputId": "ee506b45-ed1b-40f7-9bc5-3c9830a2a878"
      },
      "cell_type": "code",
      "source": [
        "#5\n",
        "sess = tf.InteractiveSession()\n",
        "sess.run(tf.global_variables_initializer())\n",
        "epochs_vector = []\n",
        "accuracy_vector = []\n",
        "batch_size = 100\n",
        "\n",
        "for i in tqdm(range(100)):\n",
        "    batch = mnist.train.next_batch(batch_size)\n",
        "    train_accuracy = accuracy.eval(feed_dict={x:batch[0], y_: batch[1]})  #t.eval() is a shortcut for calling tf.get_default_session().run(t)\n",
        "    if(i % 10 == 0):\n",
        "        print(\"Epoch %d, training accuracy %g\"%(i, train_accuracy))\n",
        "    epochs_vector.append(i)\n",
        "    accuracy_vector.append(train_accuracy)\n",
        "    train_step5.run(feed_dict={x: batch[0], y_: batch[1]})   #op.run() is a shortcut for calling tf.get_default_session().run(op)\n",
        "\n",
        "plt.title('Accuracy vs epochs learning rate={} and batch size={}'.format(learning_rate[5], batch_size))\n",
        "plt.xlabel(\"epochs\")\n",
        "plt.ylabel(\"accuracy\")\n",
        "plt.plot(epochs_vector, accuracy_vector)\n",
        "plt.show()\n",
        "sess.close()"
      ],
      "execution_count": 60,
      "outputs": [
        {
          "output_type": "stream",
          "text": [
            "/usr/local/lib/python3.6/dist-packages/tensorflow/python/client/session.py:1702: UserWarning: An interactive session is already active. This can cause out-of-memory errors in some cases. You must explicitly call `InteractiveSession.close()` to release resources held by the other session(s).\n",
            "  warnings.warn('An interactive session is already active. This can '\n",
            "  0%|          | 0/100 [00:00<?, ?it/s]"
          ],
          "name": "stderr"
        },
        {
          "output_type": "stream",
          "text": [
            "Epoch 0, training accuracy 0.05\n"
          ],
          "name": "stdout"
        },
        {
          "output_type": "stream",
          "text": [
            " 10%|█         | 10/100 [00:04<00:35,  2.52it/s]"
          ],
          "name": "stderr"
        },
        {
          "output_type": "stream",
          "text": [
            "Epoch 10, training accuracy 0.1\n"
          ],
          "name": "stdout"
        },
        {
          "output_type": "stream",
          "text": [
            " 20%|██        | 20/100 [00:07<00:31,  2.55it/s]"
          ],
          "name": "stderr"
        },
        {
          "output_type": "stream",
          "text": [
            "Epoch 20, training accuracy 0.14\n"
          ],
          "name": "stdout"
        },
        {
          "output_type": "stream",
          "text": [
            " 30%|███       | 30/100 [00:11<00:27,  2.56it/s]"
          ],
          "name": "stderr"
        },
        {
          "output_type": "stream",
          "text": [
            "Epoch 30, training accuracy 0.34\n"
          ],
          "name": "stdout"
        },
        {
          "output_type": "stream",
          "text": [
            " 40%|████      | 40/100 [00:15<00:23,  2.55it/s]"
          ],
          "name": "stderr"
        },
        {
          "output_type": "stream",
          "text": [
            "Epoch 40, training accuracy 0.7\n"
          ],
          "name": "stdout"
        },
        {
          "output_type": "stream",
          "text": [
            " 50%|█████     | 50/100 [00:19<00:19,  2.53it/s]"
          ],
          "name": "stderr"
        },
        {
          "output_type": "stream",
          "text": [
            "Epoch 50, training accuracy 0.74\n"
          ],
          "name": "stdout"
        },
        {
          "output_type": "stream",
          "text": [
            " 60%|██████    | 60/100 [00:23<00:15,  2.55it/s]"
          ],
          "name": "stderr"
        },
        {
          "output_type": "stream",
          "text": [
            "Epoch 60, training accuracy 0.86\n"
          ],
          "name": "stdout"
        },
        {
          "output_type": "stream",
          "text": [
            " 70%|███████   | 70/100 [00:27<00:11,  2.55it/s]"
          ],
          "name": "stderr"
        },
        {
          "output_type": "stream",
          "text": [
            "Epoch 70, training accuracy 0.86\n"
          ],
          "name": "stdout"
        },
        {
          "output_type": "stream",
          "text": [
            " 80%|████████  | 80/100 [00:31<00:07,  2.55it/s]"
          ],
          "name": "stderr"
        },
        {
          "output_type": "stream",
          "text": [
            "Epoch 80, training accuracy 0.88\n"
          ],
          "name": "stdout"
        },
        {
          "output_type": "stream",
          "text": [
            " 90%|█████████ | 90/100 [00:35<00:03,  2.56it/s]"
          ],
          "name": "stderr"
        },
        {
          "output_type": "stream",
          "text": [
            "Epoch 90, training accuracy 0.92\n"
          ],
          "name": "stdout"
        },
        {
          "output_type": "stream",
          "text": [
            "100%|██████████| 100/100 [00:39<00:00,  2.55it/s]\n"
          ],
          "name": "stderr"
        },
        {
          "output_type": "display_data",
          "data": {
            "image/png": "[encoded data removed]",
            "text/plain": [
              "<matplotlib.figure.Figure at 0x7fefa23304a8>"
            ]
          },
          "metadata": {
            "tags": []
          }
        }
      ]
    },
    {
      "metadata": {
        "id": "UDolLBTK7kgs",
        "colab_type": "code",
        "colab": {
          "base_uri": "https://localhost:8080/",
          "height": 535
        },
        "outputId": "d699c50b-c387-435d-832d-300cd2251dbc"
      },
      "cell_type": "code",
      "source": [
        "#6\n",
        "sess = tf.InteractiveSession()\n",
        "sess.run(tf.global_variables_initializer())\n",
        "epochs_vector = []\n",
        "accuracy_vector = []\n",
        "batch_size = 100\n",
        "\n",
        "for i in tqdm(range(100)):\n",
        "    batch = mnist.train.next_batch(batch_size)\n",
        "    train_accuracy = accuracy.eval(feed_dict={x:batch[0], y_: batch[1]})  #t.eval() is a shortcut for calling tf.get_default_session().run(t)\n",
        "    if(i % 10 == 0):\n",
        "        print(\"Epoch %d, training accuracy %g\"%(i, train_accuracy))\n",
        "    epochs_vector.append(i)\n",
        "    accuracy_vector.append(train_accuracy)\n",
        "    train_step6.run(feed_dict={x: batch[0], y_: batch[1]})   #op.run() is a shortcut for calling tf.get_default_session().run(op)\n",
        "\n",
        "plt.title('Accuracy vs epochs learning rate={} and batch size={}'.format(learning_rate[6], batch_size))\n",
        "plt.xlabel(\"epochs\")\n",
        "plt.ylabel(\"accuracy\")\n",
        "plt.plot(epochs_vector, accuracy_vector)\n",
        "plt.show()\n",
        "sess.close()\n"
      ],
      "execution_count": 61,
      "outputs": [
        {
          "output_type": "stream",
          "text": [
            "/usr/local/lib/python3.6/dist-packages/tensorflow/python/client/session.py:1702: UserWarning: An interactive session is already active. This can cause out-of-memory errors in some cases. You must explicitly call `InteractiveSession.close()` to release resources held by the other session(s).\n",
            "  warnings.warn('An interactive session is already active. This can '\n",
            "  0%|          | 0/100 [00:00<?, ?it/s]"
          ],
          "name": "stderr"
        },
        {
          "output_type": "stream",
          "text": [
            "Epoch 0, training accuracy 0.14\n"
          ],
          "name": "stdout"
        },
        {
          "output_type": "stream",
          "text": [
            " 10%|█         | 10/100 [00:04<00:35,  2.51it/s]"
          ],
          "name": "stderr"
        },
        {
          "output_type": "stream",
          "text": [
            "Epoch 10, training accuracy 0.24\n"
          ],
          "name": "stdout"
        },
        {
          "output_type": "stream",
          "text": [
            " 20%|██        | 20/100 [00:08<00:31,  2.52it/s]"
          ],
          "name": "stderr"
        },
        {
          "output_type": "stream",
          "text": [
            "Epoch 20, training accuracy 0.55\n"
          ],
          "name": "stdout"
        },
        {
          "output_type": "stream",
          "text": [
            " 30%|███       | 30/100 [00:12<00:27,  2.50it/s]"
          ],
          "name": "stderr"
        },
        {
          "output_type": "stream",
          "text": [
            "Epoch 30, training accuracy 0.78\n"
          ],
          "name": "stdout"
        },
        {
          "output_type": "stream",
          "text": [
            " 40%|████      | 40/100 [00:16<00:23,  2.51it/s]"
          ],
          "name": "stderr"
        },
        {
          "output_type": "stream",
          "text": [
            "Epoch 40, training accuracy 0.75\n"
          ],
          "name": "stdout"
        },
        {
          "output_type": "stream",
          "text": [
            " 50%|█████     | 50/100 [00:20<00:20,  2.50it/s]"
          ],
          "name": "stderr"
        },
        {
          "output_type": "stream",
          "text": [
            "Epoch 50, training accuracy 0.82\n"
          ],
          "name": "stdout"
        },
        {
          "output_type": "stream",
          "text": [
            " 60%|██████    | 60/100 [00:24<00:15,  2.51it/s]"
          ],
          "name": "stderr"
        },
        {
          "output_type": "stream",
          "text": [
            "Epoch 60, training accuracy 0.88\n"
          ],
          "name": "stdout"
        },
        {
          "output_type": "stream",
          "text": [
            " 70%|███████   | 70/100 [00:28<00:12,  2.48it/s]"
          ],
          "name": "stderr"
        },
        {
          "output_type": "stream",
          "text": [
            "Epoch 70, training accuracy 0.96\n"
          ],
          "name": "stdout"
        },
        {
          "output_type": "stream",
          "text": [
            " 80%|████████  | 80/100 [00:32<00:07,  2.52it/s]"
          ],
          "name": "stderr"
        },
        {
          "output_type": "stream",
          "text": [
            "Epoch 80, training accuracy 0.95\n"
          ],
          "name": "stdout"
        },
        {
          "output_type": "stream",
          "text": [
            " 90%|█████████ | 90/100 [00:35<00:03,  2.52it/s]"
          ],
          "name": "stderr"
        },
        {
          "output_type": "stream",
          "text": [
            "Epoch 90, training accuracy 0.92\n"
          ],
          "name": "stdout"
        },
        {
          "output_type": "stream",
          "text": [
            "100%|██████████| 100/100 [00:39<00:00,  2.53it/s]\n"
          ],
          "name": "stderr"
        },
        {
          "output_type": "display_data",
          "data": {
            "image/png": "[encoded data removed]",
            "text/plain": [
              "<matplotlib.figure.Figure at 0x7fefa1ae5cf8>"
            ]
          },
          "metadata": {
            "tags": []
          }
        }
      ]
    },
    {
      "metadata": {
        "id": "ch4H3ZDK7mnN",
        "colab_type": "code",
        "colab": {
          "base_uri": "https://localhost:8080/",
          "height": 535
        },
        "outputId": "e8bc598b-feb3-493f-cdfe-158cff86556d"
      },
      "cell_type": "code",
      "source": [
        "#7\n",
        "sess = tf.InteractiveSession()\n",
        "sess.run(tf.global_variables_initializer())\n",
        "epochs_vector = []\n",
        "accuracy_vector = []\n",
        "batch_size = 100\n",
        "\n",
        "for i in tqdm(range(100)):\n",
        "    batch = mnist.train.next_batch(batch_size)\n",
        "    train_accuracy = accuracy.eval(feed_dict={x:batch[0], y_: batch[1]})  #t.eval() is a shortcut for calling tf.get_default_session().run(t)\n",
        "    if(i % 10 == 0):\n",
        "        print(\"Epoch %d, training accuracy %g\"%(i, train_accuracy))\n",
        "    epochs_vector.append(i)\n",
        "    accuracy_vector.append(train_accuracy)\n",
        "    train_step7.run(feed_dict={x: batch[0], y_: batch[1]})   #op.run() is a shortcut for calling tf.get_default_session().run(op)\n",
        "\n",
        "plt.title('Accuracy vs epochs learning rate={} and batch size={}'.format(learning_rate[7], batch_size))\n",
        "plt.xlabel(\"epochs\")\n",
        "plt.ylabel(\"accuracy\")\n",
        "plt.plot(epochs_vector, accuracy_vector)\n",
        "plt.show()\n",
        "sess.close()"
      ],
      "execution_count": 62,
      "outputs": [
        {
          "output_type": "stream",
          "text": [
            "/usr/local/lib/python3.6/dist-packages/tensorflow/python/client/session.py:1702: UserWarning: An interactive session is already active. This can cause out-of-memory errors in some cases. You must explicitly call `InteractiveSession.close()` to release resources held by the other session(s).\n",
            "  warnings.warn('An interactive session is already active. This can '\n",
            "  0%|          | 0/100 [00:00<?, ?it/s]"
          ],
          "name": "stderr"
        },
        {
          "output_type": "stream",
          "text": [
            "Epoch 0, training accuracy 0.07\n"
          ],
          "name": "stdout"
        },
        {
          "output_type": "stream",
          "text": [
            " 10%|█         | 10/100 [00:04<00:35,  2.52it/s]"
          ],
          "name": "stderr"
        },
        {
          "output_type": "stream",
          "text": [
            "Epoch 10, training accuracy 0.21\n"
          ],
          "name": "stdout"
        },
        {
          "output_type": "stream",
          "text": [
            " 20%|██        | 20/100 [00:07<00:31,  2.54it/s]"
          ],
          "name": "stderr"
        },
        {
          "output_type": "stream",
          "text": [
            "Epoch 20, training accuracy 0.47\n"
          ],
          "name": "stdout"
        },
        {
          "output_type": "stream",
          "text": [
            " 30%|███       | 30/100 [00:11<00:28,  2.48it/s]"
          ],
          "name": "stderr"
        },
        {
          "output_type": "stream",
          "text": [
            "Epoch 30, training accuracy 0.63\n"
          ],
          "name": "stdout"
        },
        {
          "output_type": "stream",
          "text": [
            " 40%|████      | 40/100 [00:15<00:23,  2.53it/s]"
          ],
          "name": "stderr"
        },
        {
          "output_type": "stream",
          "text": [
            "Epoch 40, training accuracy 0.69\n"
          ],
          "name": "stdout"
        },
        {
          "output_type": "stream",
          "text": [
            " 50%|█████     | 50/100 [00:19<00:19,  2.53it/s]"
          ],
          "name": "stderr"
        },
        {
          "output_type": "stream",
          "text": [
            "Epoch 50, training accuracy 0.82\n"
          ],
          "name": "stdout"
        },
        {
          "output_type": "stream",
          "text": [
            " 60%|██████    | 60/100 [00:23<00:15,  2.53it/s]"
          ],
          "name": "stderr"
        },
        {
          "output_type": "stream",
          "text": [
            "Epoch 60, training accuracy 0.87\n"
          ],
          "name": "stdout"
        },
        {
          "output_type": "stream",
          "text": [
            " 70%|███████   | 70/100 [00:27<00:11,  2.52it/s]"
          ],
          "name": "stderr"
        },
        {
          "output_type": "stream",
          "text": [
            "Epoch 70, training accuracy 0.91\n"
          ],
          "name": "stdout"
        },
        {
          "output_type": "stream",
          "text": [
            " 80%|████████  | 80/100 [00:31<00:07,  2.51it/s]"
          ],
          "name": "stderr"
        },
        {
          "output_type": "stream",
          "text": [
            "Epoch 80, training accuracy 0.94\n"
          ],
          "name": "stdout"
        },
        {
          "output_type": "stream",
          "text": [
            " 90%|█████████ | 90/100 [00:35<00:03,  2.52it/s]"
          ],
          "name": "stderr"
        },
        {
          "output_type": "stream",
          "text": [
            "Epoch 90, training accuracy 0.87\n"
          ],
          "name": "stdout"
        },
        {
          "output_type": "stream",
          "text": [
            "100%|██████████| 100/100 [00:39<00:00,  2.55it/s]\n"
          ],
          "name": "stderr"
        },
        {
          "output_type": "display_data",
          "data": {
            "image/png": "[encoded data removed]",
            "text/plain": [
              "<matplotlib.figure.Figure at 0x7fefa240e5c0>"
            ]
          },
          "metadata": {
            "tags": []
          }
        }
      ]
    },
    {
      "metadata": {
        "id": "JtY6Sy3o7nfB",
        "colab_type": "code",
        "colab": {
          "base_uri": "https://localhost:8080/",
          "height": 535
        },
        "outputId": "ff087daf-6e61-4a6c-b4c3-a067c3a056b2"
      },
      "cell_type": "code",
      "source": [
        "#8\n",
        "sess = tf.InteractiveSession()\n",
        "sess.run(tf.global_variables_initializer())\n",
        "epochs_vector = []\n",
        "accuracy_vector = []\n",
        "batch_size = 100\n",
        "\n",
        "for i in tqdm(range(100)):\n",
        "    batch = mnist.train.next_batch(batch_size)\n",
        "    train_accuracy = accuracy.eval(feed_dict={x:batch[0], y_: batch[1]})  #t.eval() is a shortcut for calling tf.get_default_session().run(t)\n",
        "    if(i % 10 == 0):\n",
        "        print(\"Epoch %d, training accuracy %g\"%(i, train_accuracy))\n",
        "    epochs_vector.append(i)\n",
        "    accuracy_vector.append(train_accuracy)\n",
        "    train_step8.run(feed_dict={x: batch[0], y_: batch[1]})   #op.run() is a shortcut for calling tf.get_default_session().run(op)\n",
        "\n",
        "plt.title('Accuracy vs epochs learning rate={} and batch size={}'.format(learning_rate[8], batch_size))\n",
        "plt.xlabel(\"epochs\")\n",
        "plt.ylabel(\"accuracy\")\n",
        "plt.plot(epochs_vector, accuracy_vector)\n",
        "plt.show()\n",
        "sess.close()"
      ],
      "execution_count": 63,
      "outputs": [
        {
          "output_type": "stream",
          "text": [
            "/usr/local/lib/python3.6/dist-packages/tensorflow/python/client/session.py:1702: UserWarning: An interactive session is already active. This can cause out-of-memory errors in some cases. You must explicitly call `InteractiveSession.close()` to release resources held by the other session(s).\n",
            "  warnings.warn('An interactive session is already active. This can '\n",
            "  0%|          | 0/100 [00:00<?, ?it/s]"
          ],
          "name": "stderr"
        },
        {
          "output_type": "stream",
          "text": [
            "Epoch 0, training accuracy 0.09\n"
          ],
          "name": "stdout"
        },
        {
          "output_type": "stream",
          "text": [
            " 10%|█         | 10/100 [00:04<00:35,  2.51it/s]"
          ],
          "name": "stderr"
        },
        {
          "output_type": "stream",
          "text": [
            "Epoch 10, training accuracy 0.15\n"
          ],
          "name": "stdout"
        },
        {
          "output_type": "stream",
          "text": [
            " 20%|██        | 20/100 [00:08<00:31,  2.53it/s]"
          ],
          "name": "stderr"
        },
        {
          "output_type": "stream",
          "text": [
            "Epoch 20, training accuracy 0.12\n"
          ],
          "name": "stdout"
        },
        {
          "output_type": "stream",
          "text": [
            " 30%|███       | 30/100 [00:12<00:27,  2.53it/s]"
          ],
          "name": "stderr"
        },
        {
          "output_type": "stream",
          "text": [
            "Epoch 30, training accuracy 0.12\n"
          ],
          "name": "stdout"
        },
        {
          "output_type": "stream",
          "text": [
            " 40%|████      | 40/100 [00:15<00:23,  2.52it/s]"
          ],
          "name": "stderr"
        },
        {
          "output_type": "stream",
          "text": [
            "Epoch 40, training accuracy 0.1\n"
          ],
          "name": "stdout"
        },
        {
          "output_type": "stream",
          "text": [
            " 50%|█████     | 50/100 [00:19<00:19,  2.54it/s]"
          ],
          "name": "stderr"
        },
        {
          "output_type": "stream",
          "text": [
            "Epoch 50, training accuracy 0.08\n"
          ],
          "name": "stdout"
        },
        {
          "output_type": "stream",
          "text": [
            " 60%|██████    | 60/100 [00:23<00:15,  2.53it/s]"
          ],
          "name": "stderr"
        },
        {
          "output_type": "stream",
          "text": [
            "Epoch 60, training accuracy 0.11\n"
          ],
          "name": "stdout"
        },
        {
          "output_type": "stream",
          "text": [
            " 70%|███████   | 70/100 [00:27<00:11,  2.54it/s]"
          ],
          "name": "stderr"
        },
        {
          "output_type": "stream",
          "text": [
            "Epoch 70, training accuracy 0.12\n"
          ],
          "name": "stdout"
        },
        {
          "output_type": "stream",
          "text": [
            " 80%|████████  | 80/100 [00:31<00:07,  2.55it/s]"
          ],
          "name": "stderr"
        },
        {
          "output_type": "stream",
          "text": [
            "Epoch 80, training accuracy 0.16\n"
          ],
          "name": "stdout"
        },
        {
          "output_type": "stream",
          "text": [
            " 90%|█████████ | 90/100 [00:35<00:03,  2.54it/s]"
          ],
          "name": "stderr"
        },
        {
          "output_type": "stream",
          "text": [
            "Epoch 90, training accuracy 0.1\n"
          ],
          "name": "stdout"
        },
        {
          "output_type": "stream",
          "text": [
            "100%|██████████| 100/100 [00:39<00:00,  2.54it/s]\n"
          ],
          "name": "stderr"
        },
        {
          "output_type": "display_data",
          "data": {
            "image/png": "[encoded data removed]",
            "text/plain": [
              "<matplotlib.figure.Figure at 0x7fefa1d100b8>"
            ]
          },
          "metadata": {
            "tags": []
          }
        }
      ]
    },
    {
      "metadata": {
        "id": "00TdL1O17o8_",
        "colab_type": "code",
        "colab": {
          "base_uri": "https://localhost:8080/",
          "height": 535
        },
        "outputId": "e63d378e-9782-4538-dddd-038a164210a8"
      },
      "cell_type": "code",
      "source": [
        "#9\n",
        "sess = tf.InteractiveSession()\n",
        "sess.run(tf.global_variables_initializer())\n",
        "epochs_vector = []\n",
        "accuracy_vector = []\n",
        "batch_size = 100\n",
        "\n",
        "for i in tqdm(range(100)):\n",
        "    batch = mnist.train.next_batch(batch_size)\n",
        "    train_accuracy = accuracy.eval(feed_dict={x:batch[0], y_: batch[1]})  #t.eval() is a shortcut for calling tf.get_default_session().run(t)\n",
        "    if(i % 10 == 0):\n",
        "        print(\"Epoch %d, training accuracy %g\"%(i, train_accuracy))\n",
        "    epochs_vector.append(i)\n",
        "    accuracy_vector.append(train_accuracy)\n",
        "    train_step9.run(feed_dict={x: batch[0], y_: batch[1]})   #op.run() is a shortcut for calling tf.get_default_session().run(op)\n",
        "\n",
        "plt.title('Accuracy vs epochs learning rate={} and batch size={}'.format(learning_rate[9], batch_size))\n",
        "plt.xlabel(\"epochs\")\n",
        "plt.ylabel(\"accuracy\")\n",
        "plt.plot(epochs_vector, accuracy_vector)\n",
        "plt.show()\n",
        "sess.close()"
      ],
      "execution_count": 64,
      "outputs": [
        {
          "output_type": "stream",
          "text": [
            "/usr/local/lib/python3.6/dist-packages/tensorflow/python/client/session.py:1702: UserWarning: An interactive session is already active. This can cause out-of-memory errors in some cases. You must explicitly call `InteractiveSession.close()` to release resources held by the other session(s).\n",
            "  warnings.warn('An interactive session is already active. This can '\n",
            "  0%|          | 0/100 [00:00<?, ?it/s]"
          ],
          "name": "stderr"
        },
        {
          "output_type": "stream",
          "text": [
            "Epoch 0, training accuracy 0.11\n"
          ],
          "name": "stdout"
        },
        {
          "output_type": "stream",
          "text": [
            " 10%|█         | 10/100 [00:04<00:36,  2.49it/s]"
          ],
          "name": "stderr"
        },
        {
          "output_type": "stream",
          "text": [
            "Epoch 10, training accuracy 0.08\n"
          ],
          "name": "stdout"
        },
        {
          "output_type": "stream",
          "text": [
            " 20%|██        | 20/100 [00:08<00:31,  2.52it/s]"
          ],
          "name": "stderr"
        },
        {
          "output_type": "stream",
          "text": [
            "Epoch 20, training accuracy 0.1\n"
          ],
          "name": "stdout"
        },
        {
          "output_type": "stream",
          "text": [
            " 30%|███       | 30/100 [00:11<00:26,  2.59it/s]"
          ],
          "name": "stderr"
        },
        {
          "output_type": "stream",
          "text": [
            "Epoch 30, training accuracy 0.09\n"
          ],
          "name": "stdout"
        },
        {
          "output_type": "stream",
          "text": [
            " 40%|████      | 40/100 [00:15<00:23,  2.60it/s]"
          ],
          "name": "stderr"
        },
        {
          "output_type": "stream",
          "text": [
            "Epoch 40, training accuracy 0.1\n"
          ],
          "name": "stdout"
        },
        {
          "output_type": "stream",
          "text": [
            " 50%|█████     | 50/100 [00:19<00:19,  2.63it/s]"
          ],
          "name": "stderr"
        },
        {
          "output_type": "stream",
          "text": [
            "Epoch 50, training accuracy 0.06\n"
          ],
          "name": "stdout"
        },
        {
          "output_type": "stream",
          "text": [
            " 60%|██████    | 60/100 [00:23<00:15,  2.62it/s]"
          ],
          "name": "stderr"
        },
        {
          "output_type": "stream",
          "text": [
            "Epoch 60, training accuracy 0.11\n"
          ],
          "name": "stdout"
        },
        {
          "output_type": "stream",
          "text": [
            " 70%|███████   | 70/100 [00:27<00:11,  2.62it/s]"
          ],
          "name": "stderr"
        },
        {
          "output_type": "stream",
          "text": [
            "Epoch 70, training accuracy 0.06\n"
          ],
          "name": "stdout"
        },
        {
          "output_type": "stream",
          "text": [
            " 80%|████████  | 80/100 [00:31<00:07,  2.61it/s]"
          ],
          "name": "stderr"
        },
        {
          "output_type": "stream",
          "text": [
            "Epoch 80, training accuracy 0.11\n"
          ],
          "name": "stdout"
        },
        {
          "output_type": "stream",
          "text": [
            " 90%|█████████ | 90/100 [00:34<00:03,  2.65it/s]"
          ],
          "name": "stderr"
        },
        {
          "output_type": "stream",
          "text": [
            "Epoch 90, training accuracy 0.14\n"
          ],
          "name": "stdout"
        },
        {
          "output_type": "stream",
          "text": [
            "100%|██████████| 100/100 [00:38<00:00,  2.60it/s]\n"
          ],
          "name": "stderr"
        },
        {
          "output_type": "display_data",
          "data": {
            "image/png": "[encoded data removed]",
            "text/plain": [
              "<matplotlib.figure.Figure at 0x7fefa1aa66a0>"
            ]
          },
          "metadata": {
            "tags": []
          }
        }
      ]
    },
    {
      "metadata": {
        "id": "fsqMeTEByRK3",
        "colab_type": "text"
      },
      "cell_type": "markdown",
      "source": [
        "**Varying Batch Size**"
      ]
    },
    {
      "metadata": {
        "id": "cMgMMutL-bqh",
        "colab_type": "code",
        "colab": {
          "base_uri": "https://localhost:8080/",
          "height": 535
        },
        "outputId": "1df38270-72b0-46cb-acf3-3adcca63f112"
      },
      "cell_type": "code",
      "source": [
        "#10\n",
        "sess = tf.InteractiveSession()\n",
        "sess.run(tf.global_variables_initializer())\n",
        "epochs_vector = []\n",
        "accuracy_vector = []\n",
        "batch_size = 50\n",
        "\n",
        "for i in tqdm(range(100)):\n",
        "    batch = mnist.train.next_batch(batch_size)\n",
        "    train_accuracy = accuracy.eval(feed_dict={x:batch[0], y_: batch[1]})  #t.eval() is a shortcut for calling tf.get_default_session().run(t)\n",
        "    if(i % 10 == 0):\n",
        "        print(\"Epoch %d, training accuracy %g\"%(i, train_accuracy))\n",
        "    epochs_vector.append(i)\n",
        "    accuracy_vector.append(train_accuracy)\n",
        "    train_step0.run(feed_dict={x: batch[0], y_: batch[1]})   #op.run() is a shortcut for calling tf.get_default_session().run(op)\n",
        "\n",
        "plt.title('Accuracy vs epochs learning rate={} and batch size={}'.format(learning_rate[0], batch_size))\n",
        "plt.xlabel(\"epochs\")\n",
        "plt.ylabel(\"accuracy\")\n",
        "plt.plot(epochs_vector, accuracy_vector)\n",
        "plt.show()\n",
        "sess.close()"
      ],
      "execution_count": 65,
      "outputs": [
        {
          "output_type": "stream",
          "text": [
            "/usr/local/lib/python3.6/dist-packages/tensorflow/python/client/session.py:1702: UserWarning: An interactive session is already active. This can cause out-of-memory errors in some cases. You must explicitly call `InteractiveSession.close()` to release resources held by the other session(s).\n",
            "  warnings.warn('An interactive session is already active. This can '\n",
            "  0%|          | 0/100 [00:00<?, ?it/s]"
          ],
          "name": "stderr"
        },
        {
          "output_type": "stream",
          "text": [
            "Epoch 0, training accuracy 0.12\n"
          ],
          "name": "stdout"
        },
        {
          "output_type": "stream",
          "text": [
            " 11%|█         | 11/100 [00:02<00:19,  4.51it/s]"
          ],
          "name": "stderr"
        },
        {
          "output_type": "stream",
          "text": [
            "Epoch 10, training accuracy 0.48\n"
          ],
          "name": "stdout"
        },
        {
          "output_type": "stream",
          "text": [
            " 21%|██        | 21/100 [00:04<00:17,  4.61it/s]"
          ],
          "name": "stderr"
        },
        {
          "output_type": "stream",
          "text": [
            "Epoch 20, training accuracy 0.24\n"
          ],
          "name": "stdout"
        },
        {
          "output_type": "stream",
          "text": [
            " 31%|███       | 31/100 [00:06<00:15,  4.57it/s]"
          ],
          "name": "stderr"
        },
        {
          "output_type": "stream",
          "text": [
            "Epoch 30, training accuracy 0.34\n"
          ],
          "name": "stdout"
        },
        {
          "output_type": "stream",
          "text": [
            " 41%|████      | 41/100 [00:09<00:12,  4.60it/s]"
          ],
          "name": "stderr"
        },
        {
          "output_type": "stream",
          "text": [
            "Epoch 40, training accuracy 0.54\n"
          ],
          "name": "stdout"
        },
        {
          "output_type": "stream",
          "text": [
            " 51%|█████     | 51/100 [00:11<00:10,  4.62it/s]"
          ],
          "name": "stderr"
        },
        {
          "output_type": "stream",
          "text": [
            "Epoch 50, training accuracy 0.72\n"
          ],
          "name": "stdout"
        },
        {
          "output_type": "stream",
          "text": [
            " 61%|██████    | 61/100 [00:13<00:08,  4.54it/s]"
          ],
          "name": "stderr"
        },
        {
          "output_type": "stream",
          "text": [
            "Epoch 60, training accuracy 0.74\n"
          ],
          "name": "stdout"
        },
        {
          "output_type": "stream",
          "text": [
            " 71%|███████   | 71/100 [00:15<00:06,  4.57it/s]"
          ],
          "name": "stderr"
        },
        {
          "output_type": "stream",
          "text": [
            "Epoch 70, training accuracy 0.74\n"
          ],
          "name": "stdout"
        },
        {
          "output_type": "stream",
          "text": [
            " 81%|████████  | 81/100 [00:17<00:04,  4.58it/s]"
          ],
          "name": "stderr"
        },
        {
          "output_type": "stream",
          "text": [
            "Epoch 80, training accuracy 0.72\n"
          ],
          "name": "stdout"
        },
        {
          "output_type": "stream",
          "text": [
            " 91%|█████████ | 91/100 [00:20<00:01,  4.55it/s]"
          ],
          "name": "stderr"
        },
        {
          "output_type": "stream",
          "text": [
            "Epoch 90, training accuracy 0.78\n"
          ],
          "name": "stdout"
        },
        {
          "output_type": "stream",
          "text": [
            "100%|██████████| 100/100 [00:22<00:00,  4.42it/s]\n"
          ],
          "name": "stderr"
        },
        {
          "output_type": "display_data",
          "data": {
            "image/png": "[encoded data removed]",
            "text/plain": [
              "<matplotlib.figure.Figure at 0x7fefa2377da0>"
            ]
          },
          "metadata": {
            "tags": []
          }
        }
      ]
    },
    {
      "metadata": {
        "id": "xJtdE60MIsCH",
        "colab_type": "code",
        "colab": {
          "base_uri": "https://localhost:8080/",
          "height": 535
        },
        "outputId": "4124cd69-6698-47c9-baf0-4a00bd87862d"
      },
      "cell_type": "code",
      "source": [
        "#11\n",
        "sess = tf.InteractiveSession()\n",
        "sess.run(tf.global_variables_initializer())\n",
        "epochs_vector = []\n",
        "accuracy_vector = []\n",
        "batch_size = 10\n",
        "\n",
        "for i in tqdm(range(100)):\n",
        "    batch = mnist.train.next_batch(batch_size)\n",
        "    train_accuracy = accuracy.eval(feed_dict={x:batch[0], y_: batch[1]})  #t.eval() is a shortcut for calling tf.get_default_session().run(t)\n",
        "    if(i % 10 == 0):\n",
        "        print(\"Epoch %d, training accuracy %g\"%(i, train_accuracy))\n",
        "    epochs_vector.append(i)\n",
        "    accuracy_vector.append(train_accuracy)\n",
        "    train_step0.run(feed_dict={x: batch[0], y_: batch[1]})   #op.run() is a shortcut for calling tf.get_default_session().run(op)\n",
        "\n",
        "plt.title('Accuracy vs epochs learning rate={} and batch size={}'.format(learning_rate[0], batch_size))\n",
        "plt.xlabel(\"epochs\")\n",
        "plt.ylabel(\"accuracy\")\n",
        "plt.plot(epochs_vector, accuracy_vector)\n",
        "plt.show()\n",
        "sess.close()"
      ],
      "execution_count": 66,
      "outputs": [
        {
          "output_type": "stream",
          "text": [
            "/usr/local/lib/python3.6/dist-packages/tensorflow/python/client/session.py:1702: UserWarning: An interactive session is already active. This can cause out-of-memory errors in some cases. You must explicitly call `InteractiveSession.close()` to release resources held by the other session(s).\n",
            "  warnings.warn('An interactive session is already active. This can '\n",
            "  1%|          | 1/100 [00:00<00:24,  4.01it/s]"
          ],
          "name": "stderr"
        },
        {
          "output_type": "stream",
          "text": [
            "Epoch 0, training accuracy 0.1\n"
          ],
          "name": "stdout"
        },
        {
          "output_type": "stream",
          "text": [
            " 13%|█▎        | 13/100 [00:01<00:08, 10.74it/s]"
          ],
          "name": "stderr"
        },
        {
          "output_type": "stream",
          "text": [
            "Epoch 10, training accuracy 0.2\n"
          ],
          "name": "stdout"
        },
        {
          "output_type": "stream",
          "text": [
            " 23%|██▎       | 23/100 [00:01<00:05, 13.70it/s]"
          ],
          "name": "stderr"
        },
        {
          "output_type": "stream",
          "text": [
            "Epoch 20, training accuracy 0.1\n"
          ],
          "name": "stdout"
        },
        {
          "output_type": "stream",
          "text": [
            " 33%|███▎      | 33/100 [00:02<00:04, 14.15it/s]"
          ],
          "name": "stderr"
        },
        {
          "output_type": "stream",
          "text": [
            "Epoch 30, training accuracy 0.4\n"
          ],
          "name": "stdout"
        },
        {
          "output_type": "stream",
          "text": [
            " 43%|████▎     | 43/100 [00:03<00:03, 14.26it/s]"
          ],
          "name": "stderr"
        },
        {
          "output_type": "stream",
          "text": [
            "Epoch 40, training accuracy 0.3\n"
          ],
          "name": "stdout"
        },
        {
          "output_type": "stream",
          "text": [
            " 53%|█████▎    | 53/100 [00:03<00:03, 14.27it/s]"
          ],
          "name": "stderr"
        },
        {
          "output_type": "stream",
          "text": [
            "Epoch 50, training accuracy 0.5\n"
          ],
          "name": "stdout"
        },
        {
          "output_type": "stream",
          "text": [
            " 63%|██████▎   | 63/100 [00:04<00:02, 14.19it/s]"
          ],
          "name": "stderr"
        },
        {
          "output_type": "stream",
          "text": [
            "Epoch 60, training accuracy 0.2\n"
          ],
          "name": "stdout"
        },
        {
          "output_type": "stream",
          "text": [
            " 73%|███████▎  | 73/100 [00:05<00:01, 14.27it/s]"
          ],
          "name": "stderr"
        },
        {
          "output_type": "stream",
          "text": [
            "Epoch 70, training accuracy 0.7\n"
          ],
          "name": "stdout"
        },
        {
          "output_type": "stream",
          "text": [
            " 83%|████████▎ | 83/100 [00:06<00:01, 14.24it/s]"
          ],
          "name": "stderr"
        },
        {
          "output_type": "stream",
          "text": [
            "Epoch 80, training accuracy 0.6\n"
          ],
          "name": "stdout"
        },
        {
          "output_type": "stream",
          "text": [
            " 93%|█████████▎| 93/100 [00:06<00:00, 14.24it/s]"
          ],
          "name": "stderr"
        },
        {
          "output_type": "stream",
          "text": [
            "Epoch 90, training accuracy 0.6\n"
          ],
          "name": "stdout"
        },
        {
          "output_type": "stream",
          "text": [
            "100%|██████████| 100/100 [00:07<00:00, 13.78it/s]\n"
          ],
          "name": "stderr"
        },
        {
          "output_type": "display_data",
          "data": {
            "image/png": "[encoded data removed]",
            "text/plain": [
              "<matplotlib.figure.Figure at 0x7fefa1de6b70>"
            ]
          },
          "metadata": {
            "tags": []
          }
        }
      ]
    }
  ]
}